{
 "cells": [
  {
   "cell_type": "markdown",
   "metadata": {},
   "source": [
    "### Load Data"
   ]
  },
  {
   "cell_type": "code",
   "execution_count": 35,
   "metadata": {},
   "outputs": [
    {
     "name": "stdout",
     "output_type": "stream",
     "text": [
      "Extracting MNIST_data/train-images-idx3-ubyte.gz\n",
      "Extracting MNIST_data/train-labels-idx1-ubyte.gz\n",
      "Extracting MNIST_data/t10k-images-idx3-ubyte.gz\n",
      "Extracting MNIST_data/t10k-labels-idx1-ubyte.gz\n"
     ]
    }
   ],
   "source": [
    "import tensorflow as tf\n",
    "import numpy as np\n",
    "from tensorflow.examples.tutorials.mnist import input_data\n",
    "mnist = input_data.read_data_sets('MNIST_data')"
   ]
  },
  {
   "cell_type": "markdown",
   "metadata": {},
   "source": [
    "### Neuron Layer Definition\n",
    "- created a helper function for generating neuron layers\n",
    "- this is not necessary, we could just use tf.layers.dense instead and get same results"
   ]
  },
  {
   "cell_type": "code",
   "execution_count": 36,
   "metadata": {},
   "outputs": [],
   "source": [
    "def neuron_layer(X, n_neurons, name, activation=None):\n",
    "    with tf.name_scope(name):\n",
    "        n_inputs = int(X.get_shape()[1])\n",
    "        stddev = 2 / np.sqrt(n_inputs)\n",
    "        init = tf.truncated_normal((n_inputs, n_neurons), stddev=stddev)\n",
    "        W = tf.Variable(init, name=\"kernel\")\n",
    "        b = tf.Variable(tf.zeros([n_neurons]), name=\"bias\")\n",
    "        Z = tf.matmul(X, W) + b\n",
    "        if activation is not None:\n",
    "            return activation(Z)\n",
    "        else :\n",
    "            return Z"
   ]
  },
  {
   "cell_type": "markdown",
   "metadata": {},
   "source": [
    "### Define Computation Graph"
   ]
  },
  {
   "cell_type": "code",
   "execution_count": 37,
   "metadata": {},
   "outputs": [],
   "source": [
    "n_inputs = 28 * 28\n",
    "n_hidden1 = 300\n",
    "n_hidden2 = 100\n",
    "n_outputs = 10"
   ]
  },
  {
   "cell_type": "code",
   "execution_count": 38,
   "metadata": {},
   "outputs": [],
   "source": [
    "X = tf.placeholder(tf.float32, shape=(None, n_inputs), name=\"X\")\n",
    "y = tf.placeholder(tf.int64, shape=(None), name=\"y\")"
   ]
  },
  {
   "cell_type": "code",
   "execution_count": 39,
   "metadata": {},
   "outputs": [],
   "source": [
    "with tf.name_scope(\"dnn\"):\n",
    "    hidden1 = neuron_layer(X, n_hidden1, name=\"hidden1\", activation=tf.nn.relu)\n",
    "    hidden2 = neuron_layer(hidden1, n_hidden2, name=\"hidden2\", activation= tf.nn.relu)\n",
    "    logits = neuron_layer(hidden2, n_outputs, name=\"outputs\")"
   ]
  },
  {
   "cell_type": "code",
   "execution_count": 40,
   "metadata": {},
   "outputs": [],
   "source": [
    "with tf.name_scope(\"loss\"):\n",
    "    xentropy = tf.nn.sparse_softmax_cross_entropy_with_logits(labels=y, logits=logits)\n",
    "    loss = tf.reduce_mean(xentropy, name=\"loss\")"
   ]
  },
  {
   "cell_type": "code",
   "execution_count": 41,
   "metadata": {},
   "outputs": [],
   "source": [
    "learning_rate = 0.01\n",
    "with tf.name_scope(\"train\"):\n",
    "    optimizer = tf.train.GradientDescentOptimizer(learning_rate)\n",
    "    training_op = optimizer.minimize(loss)"
   ]
  },
  {
   "cell_type": "code",
   "execution_count": 42,
   "metadata": {},
   "outputs": [],
   "source": [
    "with tf.name_scope(\"eval\"):\n",
    "    correct = tf.nn.in_top_k(logits, y, 1)\n",
    "    accuracy = tf.reduce_mean(tf.cast(correct, tf.float32))"
   ]
  },
  {
   "cell_type": "markdown",
   "metadata": {},
   "source": [
    "### Execute Session"
   ]
  },
  {
   "cell_type": "code",
   "execution_count": 46,
   "metadata": {},
   "outputs": [],
   "source": [
    "init = tf.global_variables_initializer()\n",
    "saver = tf.train.Saver()"
   ]
  },
  {
   "cell_type": "code",
   "execution_count": 48,
   "metadata": {},
   "outputs": [],
   "source": [
    "n_epochs = 50\n",
    "batch_size = 50"
   ]
  },
  {
   "cell_type": "code",
   "execution_count": 49,
   "metadata": {},
   "outputs": [
    {
     "name": "stdout",
     "output_type": "stream",
     "text": [
      "Epoch:\t 0 Training accuracy:\t 0.9 Test accuracy:\t 0.9142\n",
      "Epoch:\t 1 Training accuracy:\t 0.94 Test accuracy:\t 0.9322\n",
      "Epoch:\t 2 Training accuracy:\t 0.94 Test accuracy:\t 0.9427\n",
      "Epoch:\t 3 Training accuracy:\t 0.94 Test accuracy:\t 0.9469\n",
      "Epoch:\t 4 Training accuracy:\t 0.96 Test accuracy:\t 0.9508\n",
      "Epoch:\t 5 Training accuracy:\t 0.98 Test accuracy:\t 0.956\n",
      "Epoch:\t 6 Training accuracy:\t 0.96 Test accuracy:\t 0.9574\n",
      "Epoch:\t 7 Training accuracy:\t 0.92 Test accuracy:\t 0.9607\n",
      "Epoch:\t 8 Training accuracy:\t 1.0 Test accuracy:\t 0.9632\n",
      "Epoch:\t 9 Training accuracy:\t 0.96 Test accuracy:\t 0.9646\n",
      "Epoch:\t 10 Training accuracy:\t 1.0 Test accuracy:\t 0.9662\n",
      "Epoch:\t 11 Training accuracy:\t 1.0 Test accuracy:\t 0.9665\n",
      "Epoch:\t 12 Training accuracy:\t 0.98 Test accuracy:\t 0.968\n",
      "Epoch:\t 13 Training accuracy:\t 0.98 Test accuracy:\t 0.9691\n",
      "Epoch:\t 14 Training accuracy:\t 1.0 Test accuracy:\t 0.9707\n",
      "Epoch:\t 15 Training accuracy:\t 1.0 Test accuracy:\t 0.9713\n",
      "Epoch:\t 16 Training accuracy:\t 0.98 Test accuracy:\t 0.9725\n",
      "Epoch:\t 17 Training accuracy:\t 1.0 Test accuracy:\t 0.973\n",
      "Epoch:\t 18 Training accuracy:\t 1.0 Test accuracy:\t 0.973\n",
      "Epoch:\t 19 Training accuracy:\t 0.98 Test accuracy:\t 0.9727\n",
      "Epoch:\t 20 Training accuracy:\t 1.0 Test accuracy:\t 0.975\n",
      "Epoch:\t 21 Training accuracy:\t 1.0 Test accuracy:\t 0.9744\n",
      "Epoch:\t 22 Training accuracy:\t 1.0 Test accuracy:\t 0.9763\n",
      "Epoch:\t 23 Training accuracy:\t 1.0 Test accuracy:\t 0.976\n",
      "Epoch:\t 24 Training accuracy:\t 0.98 Test accuracy:\t 0.977\n",
      "Epoch:\t 25 Training accuracy:\t 1.0 Test accuracy:\t 0.9773\n",
      "Epoch:\t 26 Training accuracy:\t 0.98 Test accuracy:\t 0.9778\n",
      "Epoch:\t 27 Training accuracy:\t 1.0 Test accuracy:\t 0.9769\n",
      "Epoch:\t 28 Training accuracy:\t 1.0 Test accuracy:\t 0.9772\n",
      "Epoch:\t 29 Training accuracy:\t 1.0 Test accuracy:\t 0.9776\n",
      "Epoch:\t 30 Training accuracy:\t 0.98 Test accuracy:\t 0.9776\n",
      "Epoch:\t 31 Training accuracy:\t 1.0 Test accuracy:\t 0.9777\n",
      "Epoch:\t 32 Training accuracy:\t 1.0 Test accuracy:\t 0.9791\n",
      "Epoch:\t 33 Training accuracy:\t 1.0 Test accuracy:\t 0.9784\n",
      "Epoch:\t 34 Training accuracy:\t 1.0 Test accuracy:\t 0.9786\n",
      "Epoch:\t 35 Training accuracy:\t 1.0 Test accuracy:\t 0.9776\n",
      "Epoch:\t 36 Training accuracy:\t 1.0 Test accuracy:\t 0.976\n",
      "Epoch:\t 37 Training accuracy:\t 1.0 Test accuracy:\t 0.9796\n",
      "Epoch:\t 38 Training accuracy:\t 1.0 Test accuracy:\t 0.9789\n",
      "Epoch:\t 39 Training accuracy:\t 1.0 Test accuracy:\t 0.9788\n",
      "Epoch:\t 40 Training accuracy:\t 1.0 Test accuracy:\t 0.9784\n",
      "Epoch:\t 41 Training accuracy:\t 1.0 Test accuracy:\t 0.9796\n",
      "Epoch:\t 42 Training accuracy:\t 1.0 Test accuracy:\t 0.979\n",
      "Epoch:\t 43 Training accuracy:\t 1.0 Test accuracy:\t 0.9783\n",
      "Epoch:\t 44 Training accuracy:\t 1.0 Test accuracy:\t 0.9791\n",
      "Epoch:\t 45 Training accuracy:\t 0.98 Test accuracy:\t 0.9788\n",
      "Epoch:\t 46 Training accuracy:\t 1.0 Test accuracy:\t 0.9794\n",
      "Epoch:\t 47 Training accuracy:\t 1.0 Test accuracy:\t 0.9779\n",
      "Epoch:\t 48 Training accuracy:\t 1.0 Test accuracy:\t 0.9788\n",
      "Epoch:\t 49 Training accuracy:\t 1.0 Test accuracy:\t 0.9794\n",
      "Training complete, checkpoint saved\n"
     ]
    }
   ],
   "source": [
    "with tf.Session() as sess:\n",
    "    init.run()\n",
    "    for epoch in range(n_epochs):\n",
    "        for iteration in range(mnist.train.num_examples // batch_size):\n",
    "            X_batch, y_batch = mnist.train.next_batch(batch_size)\n",
    "            sess.run(training_op, feed_dict={X: X_batch, y: y_batch})\n",
    "        acc_train = accuracy.eval(feed_dict={X: X_batch, y: y_batch})\n",
    "        acc_test = accuracy.eval(feed_dict={X: mnist.test.images, y: mnist.test.labels})\n",
    "        print(\"Epoch:\\t\", epoch, \"Training accuracy:\\t\", acc_train, \"Test accuracy:\\t\", acc_test)\n",
    "    save_path = saver.save(sess, \"./my_model_final.ckpt\")\n",
    "    print(\"Training complete, checkpoint saved\")"
   ]
  },
  {
   "cell_type": "code",
   "execution_count": null,
   "metadata": {},
   "outputs": [],
   "source": []
  }
 ],
 "metadata": {
  "kernelspec": {
   "display_name": "Python 3",
   "language": "python",
   "name": "python3"
  },
  "language_info": {
   "codemirror_mode": {
    "name": "ipython",
    "version": 3
   },
   "file_extension": ".py",
   "mimetype": "text/x-python",
   "name": "python",
   "nbconvert_exporter": "python",
   "pygments_lexer": "ipython3",
   "version": "3.6.6"
  }
 },
 "nbformat": 4,
 "nbformat_minor": 2
}
