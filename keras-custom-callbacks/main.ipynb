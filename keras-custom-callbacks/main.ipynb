{
 "cells": [
  {
   "cell_type": "code",
   "execution_count": 195,
   "metadata": {},
   "outputs": [],
   "source": [
    "import os\n",
    "import time\n",
    "from __future__ import print_function\n",
    "import keras\n",
    "import tensorflow as tf\n",
    "from keras.datasets import mnist\n",
    "from keras.layers import Dense, Flatten, Conv2D, MaxPooling2D\n",
    "from keras.models import Sequential, load_model\n",
    "from keras.callbacks import Callback, TensorBoard, ModelCheckpoint, CSVLogger\n",
    "import matplotlib.pylab as plt"
   ]
  },
  {
   "cell_type": "markdown",
   "metadata": {},
   "source": [
    "## TensorBoard Callback Helper Class"
   ]
  },
  {
   "cell_type": "code",
   "execution_count": 196,
   "metadata": {},
   "outputs": [],
   "source": [
    "class Batched_TensorBoard(TensorBoard):\n",
    "\n",
    "    def __init__(self, log_dir = './log_dir'):\n",
    "        self.log_dir = log_dir\n",
    "        self.batch_writer = tf.summary.FileWriter(self.log_dir)\n",
    "        self.step = 0\n",
    "        super().__init__(self.log_dir)\n",
    "\n",
    "\n",
    "    def on_batch_end(self, batch, logs={}):\n",
    "        \"\"\"Called after every batch\"\"\"\n",
    "        for name, value in logs.items():\n",
    "            if name in ['acc', 'loss']:\n",
    "                summary = tf.Summary()\n",
    "                summary_value = summary.value.add() #Empty\n",
    "                summary_value.simple_value = value.item() # 0.87 (Accuracy Value)\n",
    "                summary_value.tag = name #if \"acc\", tag = \"accuracy\" for more defined tags on the tensorboard\n",
    "                self.batch_writer.add_summary(summary, self.step) \n",
    "    \n",
    "        self.batch_writer.flush()\n",
    "        self.step += 1 # Iterated over every batch"
   ]
  },
  {
   "cell_type": "markdown",
   "metadata": {},
   "source": [
    "## Initialize Globals"
   ]
  },
  {
   "cell_type": "code",
   "execution_count": 203,
   "metadata": {},
   "outputs": [],
   "source": [
    "timestamp = time.strftime(\"%m-%d.%H:%M\")\n",
    "TENSORBOARD_PATH = './graphs/' + timestamp\n",
    "CSV_DIR = './csv'\n",
    "CSV_PATH = CSV_DIR + '/'+ timestamp + '.csv'\n",
    "MODELS_ROOT = './models'\n",
    "MODEL_DIR = MODELS_ROOT + '/' + timestamp\n",
    "MODEL_PATH = MODEL_DIR + '/model.epoch.{epoch:02d}.hdf5'"
   ]
  },
  {
   "cell_type": "code",
   "execution_count": 204,
   "metadata": {},
   "outputs": [],
   "source": [
    "if not os.path.exists(MODELS_ROOT):\n",
    "    os.makedirs(MODELS_ROOT)\n",
    "if not os.path.exists(MODEL_DIR):\n",
    "    os.makedirs(MODEL_DIR)\n",
    "if not os.path.exists(CSV_DIR):\n",
    "    os.makedirs(CSV_DIR)"
   ]
  },
  {
   "cell_type": "markdown",
   "metadata": {},
   "source": [
    "## Load Data"
   ]
  },
  {
   "cell_type": "code",
   "execution_count": 205,
   "metadata": {},
   "outputs": [
    {
     "name": "stdout",
     "output_type": "stream",
     "text": [
      "x_train shape: (60000, 28, 28)\n",
      "y_train shape: (60000,)\n",
      "x_test shape: (10000, 28, 28)\n",
      "y_test shape: (10000,)\n",
      "data type: uint8\n"
     ]
    }
   ],
   "source": [
    "# laod data\n",
    "img_x, img_y = 28, 28\n",
    "\n",
    "(x_train, y_train), (x_test, y_test) = mnist.load_data()\n",
    "\n",
    "print('x_train shape:', x_train.shape)\n",
    "print('y_train shape:', y_train.shape)\n",
    "print('x_test shape:', x_test.shape)\n",
    "print('y_test shape:', y_test.shape)\n",
    "print('data type:', x_train.dtype)"
   ]
  },
  {
   "cell_type": "code",
   "execution_count": 206,
   "metadata": {},
   "outputs": [],
   "source": [
    "'''\n",
    "# un-comment when testing changes\n",
    "# only trains on 100 instances\n",
    "x_train = x_train[:100]\n",
    "y_train = y_train[:100]\n",
    "x_test = x_test[:100]\n",
    "y_test = y_test[:100]\n",
    "''''''"
   ]
  },
  {
   "cell_type": "markdown",
   "metadata": {},
   "source": [
    "## Data Pre Processing"
   ]
  },
  {
   "cell_type": "code",
   "execution_count": 207,
   "metadata": {},
   "outputs": [],
   "source": [
    "# reshape the data into a 4D tensor - (sample_number, x_img_size, y_img_size, num_channels)\n",
    "# because the MNIST is greyscale, we only have a single channel - RGB colour images would have 3\n",
    "x_train = x_train.reshape(x_train.shape[0], img_x, img_y, 1)\n",
    "x_test = x_test.reshape(x_test.shape[0], img_x, img_y, 1)\n",
    "input_shape = (img_x, img_y, 1)"
   ]
  },
  {
   "cell_type": "code",
   "execution_count": 208,
   "metadata": {},
   "outputs": [],
   "source": [
    "# data values are in range [0, 255]\n",
    "# convert to floats between [0, 1]\n",
    "x_train = x_train.astype('float32')\n",
    "x_test = x_test.astype('float32')\n",
    "x_train /= 255\n",
    "x_test /= 255"
   ]
  },
  {
   "cell_type": "code",
   "execution_count": 209,
   "metadata": {},
   "outputs": [],
   "source": [
    "# convert labels to one hot encoding\n",
    "# categorical_crossentropy loss below\n",
    "y_train = keras.utils.to_categorical(y_train, num_classes)\n",
    "y_test = keras.utils.to_categorical(y_test, num_classes)"
   ]
  },
  {
   "cell_type": "markdown",
   "metadata": {},
   "source": [
    "## Build / Compile Model"
   ]
  },
  {
   "cell_type": "code",
   "execution_count": 210,
   "metadata": {},
   "outputs": [],
   "source": [
    "# resolve duplicate tensorboard computation graphs\n",
    "from keras import backend as K  \n",
    "K.clear_session()"
   ]
  },
  {
   "cell_type": "code",
   "execution_count": 211,
   "metadata": {},
   "outputs": [],
   "source": [
    "# build CNN\n",
    "model = Sequential()\n",
    "\n",
    "# conv: 32 5x5 filters\n",
    "# 28 x 28 x 1 --> 24 x 24 x 32\n",
    "model.add(Conv2D(\n",
    "    32,\n",
    "    kernel_size=(5, 5),\n",
    "    strides=(1, 1),\n",
    "    activation='relu',\n",
    "    input_shape=input_shape\n",
    "))\n",
    "\n",
    "# max pool:\n",
    "# 24 x 24 x 32 --> 12 x 12 x 32\n",
    "model.add(MaxPooling2D(\n",
    "    pool_size=(2, 2),\n",
    "    strides=(2, 2)\n",
    "))\n",
    "\n",
    "# conv: 64 5x5 filters\n",
    "# 12 x 12 x 32 --> 8 x 8 x 64\n",
    "model.add(Conv2D(\n",
    "    64,\n",
    "    kernel_size=(5, 5),\n",
    "    activation='relu'\n",
    "))\n",
    "\n",
    "# max pool:\n",
    "# 8 x 8 x 64 --> 4 x 4 x 64\n",
    "model.add(MaxPooling2D(\n",
    "    pool_size=(2, 2),\n",
    "    strides=(2, 2)\n",
    "))\n",
    "\n",
    "# flatten for dense layer\n",
    "model.add(Flatten())\n",
    "\n",
    "# dense layer\n",
    "model.add(Dense(1000, activation='relu'))\n",
    "\n",
    "# softmax layer\n",
    "model.add(Dense(num_classes, activation='softmax'))\n",
    "\n",
    "# compile model\n",
    "model.compile(\n",
    "    loss=keras.losses.categorical_crossentropy,\n",
    "    optimizer=keras.optimizers.Adam(),\n",
    "    metrics=['accuracy']\n",
    ")"
   ]
  },
  {
   "cell_type": "markdown",
   "metadata": {},
   "source": [
    "## Define Training Callbacks"
   ]
  },
  {
   "cell_type": "code",
   "execution_count": 212,
   "metadata": {},
   "outputs": [],
   "source": [
    "# define callbacks\n",
    "\n",
    "# helper class for tracking accuracy\n",
    "class AccuracyHistory(keras.callbacks.Callback):\n",
    "    def on_train_begin(self, logs={}):\n",
    "        self.acc = []\n",
    "    def on_epoch_end(self, batch, logs={}):\n",
    "        self.acc.append(logs.get('acc'))\n",
    "        \n",
    "# AccuracyHistory callback stores per epoch accuracy on results.__dict__['history']\n",
    "accuracyHistory = AccuracyHistory()\n",
    "\n",
    "# TensorBoard callback writes computation graph and per batch loss\n",
    "tensorboardCallback = Batched_TensorBoard(log_dir=TENSORBOARD_PATH)\n",
    "\n",
    "# Model Checkpoint Callback saves model and weights after each epoch\n",
    "modelCheckpointCallback = ModelCheckpoint(filepath=MODEL_PATH)\n",
    "\n",
    "# CSV Checkpoint writes accuracy and loss to csv file after each epoch\n",
    "csvLogCallback = CSVLogger(filename=CSV_PATH)"
   ]
  },
  {
   "cell_type": "markdown",
   "metadata": {},
   "source": [
    "## Train Model"
   ]
  },
  {
   "cell_type": "code",
   "execution_count": 213,
   "metadata": {},
   "outputs": [
    {
     "name": "stdout",
     "output_type": "stream",
     "text": [
      "Train on 100 samples, validate on 100 samples\n",
      "Epoch 1/10\n",
      "100/100 [==============================] - 1s 11ms/step - loss: 2.2893 - acc: 0.1100 - val_loss: 2.1647 - val_acc: 0.2400\n",
      "Epoch 2/10\n",
      "100/100 [==============================] - 1s 9ms/step - loss: 2.1038 - acc: 0.3400 - val_loss: 2.0217 - val_acc: 0.4100\n",
      "Epoch 3/10\n",
      "100/100 [==============================] - 1s 9ms/step - loss: 1.9043 - acc: 0.5000 - val_loss: 1.8295 - val_acc: 0.5700\n",
      "Epoch 4/10\n",
      "100/100 [==============================] - 1s 9ms/step - loss: 1.6588 - acc: 0.6600 - val_loss: 1.5880 - val_acc: 0.6400\n",
      "Epoch 5/10\n",
      "100/100 [==============================] - 1s 9ms/step - loss: 1.3666 - acc: 0.8100 - val_loss: 1.3449 - val_acc: 0.6500\n",
      "Epoch 6/10\n",
      "100/100 [==============================] - 1s 9ms/step - loss: 1.0746 - acc: 0.8800 - val_loss: 1.1043 - val_acc: 0.7200\n",
      "Epoch 7/10\n",
      "100/100 [==============================] - 1s 9ms/step - loss: 0.7952 - acc: 0.9300 - val_loss: 0.9147 - val_acc: 0.7100\n",
      "Epoch 8/10\n",
      "100/100 [==============================] - 1s 9ms/step - loss: 0.5767 - acc: 0.9500 - val_loss: 0.8269 - val_acc: 0.7200\n",
      "Epoch 9/10\n",
      "100/100 [==============================] - 1s 9ms/step - loss: 0.4093 - acc: 0.9400 - val_loss: 0.8187 - val_acc: 0.7000\n",
      "Epoch 10/10\n",
      "100/100 [==============================] - 1s 9ms/step - loss: 0.3025 - acc: 0.9500 - val_loss: 0.8112 - val_acc: 0.7100\n"
     ]
    }
   ],
   "source": [
    "# define hyper params\n",
    "batch_size = 128\n",
    "num_classes = 10\n",
    "epochs = 10\n",
    "\n",
    "validation_data = (x_test, y_test)\n",
    "\n",
    "results = model.fit(\n",
    "    x_train, y_train,\n",
    "    batch_size=batch_size,\n",
    "    epochs=epochs,\n",
    "    verbose=1,\n",
    "    validation_data=validation_data,\n",
    "    callbacks=[history, tensorboardCallback, modelCheckpointCallback, csvLogCallback]\n",
    ")"
   ]
  },
  {
   "cell_type": "markdown",
   "metadata": {},
   "source": [
    "## Load Saved Model"
   ]
  },
  {
   "cell_type": "code",
   "execution_count": 150,
   "metadata": {},
   "outputs": [
    {
     "name": "stdout",
     "output_type": "stream",
     "text": [
      "_________________________________________________________________\n",
      "Layer (type)                 Output Shape              Param #   \n",
      "=================================================================\n",
      "conv2d_1 (Conv2D)            (None, 24, 24, 32)        832       \n",
      "_________________________________________________________________\n",
      "max_pooling2d_1 (MaxPooling2 (None, 12, 12, 32)        0         \n",
      "_________________________________________________________________\n",
      "conv2d_2 (Conv2D)            (None, 8, 8, 64)          51264     \n",
      "_________________________________________________________________\n",
      "max_pooling2d_2 (MaxPooling2 (None, 4, 4, 64)          0         \n",
      "_________________________________________________________________\n",
      "flatten_1 (Flatten)          (None, 1024)              0         \n",
      "_________________________________________________________________\n",
      "dense_1 (Dense)              (None, 1000)              1025000   \n",
      "_________________________________________________________________\n",
      "dense_2 (Dense)              (None, 10)                10010     \n",
      "=================================================================\n",
      "Total params: 1,087,106\n",
      "Trainable params: 1,087,106\n",
      "Non-trainable params: 0\n",
      "_________________________________________________________________\n"
     ]
    }
   ],
   "source": [
    "new_model = load_model('./models/09-27.22:37model.01.hdf5')\n",
    "new_model.summary()"
   ]
  },
  {
   "cell_type": "code",
   "execution_count": null,
   "metadata": {},
   "outputs": [],
   "source": []
  }
 ],
 "metadata": {
  "kernelspec": {
   "display_name": "Python 3",
   "language": "python",
   "name": "python3"
  },
  "language_info": {
   "codemirror_mode": {
    "name": "ipython",
    "version": 3
   },
   "file_extension": ".py",
   "mimetype": "text/x-python",
   "name": "python",
   "nbconvert_exporter": "python",
   "pygments_lexer": "ipython3",
   "version": "3.6.6"
  }
 },
 "nbformat": 4,
 "nbformat_minor": 2
}
