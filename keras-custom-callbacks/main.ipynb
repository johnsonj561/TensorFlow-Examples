{
 "cells": [
  {
   "cell_type": "code",
   "execution_count": 1,
   "metadata": {},
   "outputs": [
    {
     "name": "stderr",
     "output_type": "stream",
     "text": [
      "Using TensorFlow backend.\n"
     ]
    }
   ],
   "source": [
    "import os\n",
    "import time\n",
    "from __future__ import print_function\n",
    "import keras\n",
    "import tensorflow as tf\n",
    "from keras.datasets import mnist\n",
    "from keras.layers import Dense, Flatten, Conv2D, MaxPooling2D\n",
    "from keras.models import Sequential, load_model\n",
    "from keras.callbacks import Callback, TensorBoard, ModelCheckpoint, CSVLogger\n",
    "import matplotlib.pylab as plt"
   ]
  },
  {
   "cell_type": "markdown",
   "metadata": {},
   "source": [
    "## TensorBoard Callback Helper Class"
   ]
  },
  {
   "cell_type": "code",
   "execution_count": 2,
   "metadata": {},
   "outputs": [],
   "source": [
    "class Batched_TensorBoard(TensorBoard):\n",
    "\n",
    "    def __init__(self, log_dir = './log_dir'):\n",
    "        self.log_dir = log_dir\n",
    "        self.batch_writer = tf.summary.FileWriter(self.log_dir)\n",
    "        self.step = 0\n",
    "        super().__init__(self.log_dir)\n",
    "\n",
    "\n",
    "    def on_batch_end(self, batch, logs={}):\n",
    "        \"\"\"Called after every batch\"\"\"\n",
    "        for name, value in logs.items():\n",
    "            if name in ['acc', 'loss']:\n",
    "                summary = tf.Summary()\n",
    "                summary_value = summary.value.add() #Empty\n",
    "                summary_value.simple_value = value.item() # 0.87 (Accuracy Value)\n",
    "                summary_value.tag = name #if \"acc\", tag = \"accuracy\" for more defined tags on the tensorboard\n",
    "                self.batch_writer.add_summary(summary, self.step) \n",
    "    \n",
    "        self.batch_writer.flush()\n",
    "        self.step += 1 # Iterated over every batch"
   ]
  },
  {
   "cell_type": "markdown",
   "metadata": {},
   "source": [
    "## Initialize Globals"
   ]
  },
  {
   "cell_type": "code",
   "execution_count": 5,
   "metadata": {},
   "outputs": [],
   "source": [
    "timestamp = time.strftime(\"%m-%d.%H:%M\")\n",
    "ROOT_DIR = './'\n",
    "TENSORBOARD_PATH = ROOT_DIR + 'graphs/' + timestamp\n",
    "CSV_DIR = ROOT_DIR + 'csv'\n",
    "CSV_PATH = CSV_DIR + '/'+ timestamp + '.csv'\n",
    "MODEL_DIR = ROOT_DIR + 'models' + '/' + timestamp\n",
    "MODEL_PATH = MODEL_DIR + '/model.epoch.{epoch:02d}.hdf5'"
   ]
  },
  {
   "cell_type": "code",
   "execution_count": 6,
   "metadata": {},
   "outputs": [],
   "source": [
    "if not os.path.exists(MODEL_DIR):\n",
    "    os.makedirs(MODEL_DIR)\n",
    "if not os.path.exists(CSV_DIR):\n",
    "    os.makedirs(CSV_DIR)"
   ]
  },
  {
   "cell_type": "markdown",
   "metadata": {},
   "source": [
    "## Load Data"
   ]
  },
  {
   "cell_type": "code",
   "execution_count": 13,
   "metadata": {},
   "outputs": [
    {
     "name": "stdout",
     "output_type": "stream",
     "text": [
      "x_train shape: (60000, 28, 28)\n",
      "y_train shape: (60000,)\n",
      "x_test shape: (10000, 28, 28)\n",
      "y_test shape: (10000,)\n",
      "data type: uint8\n"
     ]
    }
   ],
   "source": [
    "# laod data\n",
    "img_x, img_y = 28, 28\n",
    "\n",
    "(x_train, y_train), (x_test, y_test) = mnist.load_data()\n",
    "\n",
    "num_classes = 10\n",
    "\n",
    "print('x_train shape:', x_train.shape)\n",
    "print('y_train shape:', y_train.shape)\n",
    "print('x_test shape:', x_test.shape)\n",
    "print('y_test shape:', y_test.shape)\n",
    "print('data type:', x_train.dtype)"
   ]
  },
  {
   "cell_type": "code",
   "execution_count": 14,
   "metadata": {},
   "outputs": [
    {
     "data": {
      "text/plain": [
       "'\\n# un-comment when testing changes\\n# only trains on 100 instances\\nx_train = x_train[:100]\\ny_train = y_train[:100]\\nx_test = x_test[:100]\\ny_test = y_test[:100]\\n'"
      ]
     },
     "execution_count": 14,
     "metadata": {},
     "output_type": "execute_result"
    }
   ],
   "source": [
    "'''\n",
    "# un-comment when testing changes\n",
    "# only trains on 100 instances\n",
    "x_train = x_train[:100]\n",
    "y_train = y_train[:100]\n",
    "x_test = x_test[:100]\n",
    "y_test = y_test[:100]\n",
    "'''"
   ]
  },
  {
   "cell_type": "markdown",
   "metadata": {},
   "source": [
    "## Data Pre Processing"
   ]
  },
  {
   "cell_type": "code",
   "execution_count": 15,
   "metadata": {},
   "outputs": [],
   "source": [
    "# reshape the data into a 4D tensor - (sample_number, x_img_size, y_img_size, num_channels)\n",
    "# because the MNIST is greyscale, we only have a single channel - RGB colour images would have 3\n",
    "x_train = x_train.reshape(x_train.shape[0], img_x, img_y, 1)\n",
    "x_test = x_test.reshape(x_test.shape[0], img_x, img_y, 1)\n",
    "input_shape = (img_x, img_y, 1)"
   ]
  },
  {
   "cell_type": "code",
   "execution_count": 16,
   "metadata": {},
   "outputs": [],
   "source": [
    "# data values are in range [0, 255]\n",
    "# convert to floats between [0, 1]\n",
    "x_train = x_train.astype('float32')\n",
    "x_test = x_test.astype('float32')\n",
    "x_train /= 255\n",
    "x_test /= 255"
   ]
  },
  {
   "cell_type": "code",
   "execution_count": 17,
   "metadata": {},
   "outputs": [],
   "source": [
    "# convert labels to one hot encoding\n",
    "# categorical_crossentropy loss below\n",
    "y_train = keras.utils.to_categorical(y_train, num_classes)\n",
    "y_test = keras.utils.to_categorical(y_test, num_classes)"
   ]
  },
  {
   "cell_type": "markdown",
   "metadata": {},
   "source": [
    "## Build / Compile Model"
   ]
  },
  {
   "cell_type": "code",
   "execution_count": 18,
   "metadata": {},
   "outputs": [],
   "source": [
    "# resolve duplicate tensorboard computation graphs\n",
    "from keras import backend as K  \n",
    "K.clear_session()"
   ]
  },
  {
   "cell_type": "code",
   "execution_count": 19,
   "metadata": {},
   "outputs": [],
   "source": [
    "# build CNN\n",
    "model = Sequential()\n",
    "\n",
    "# conv: 32 5x5 filters\n",
    "# 28 x 28 x 1 --> 24 x 24 x 32\n",
    "model.add(Conv2D(\n",
    "    32,\n",
    "    kernel_size=(5, 5),\n",
    "    strides=(1, 1),\n",
    "    activation='relu',\n",
    "    input_shape=input_shape\n",
    "))\n",
    "\n",
    "# max pool:\n",
    "# 24 x 24 x 32 --> 12 x 12 x 32\n",
    "model.add(MaxPooling2D(\n",
    "    pool_size=(2, 2),\n",
    "    strides=(2, 2)\n",
    "))\n",
    "\n",
    "# conv: 64 5x5 filters\n",
    "# 12 x 12 x 32 --> 8 x 8 x 64\n",
    "model.add(Conv2D(\n",
    "    64,\n",
    "    kernel_size=(5, 5),\n",
    "    activation='relu'\n",
    "))\n",
    "\n",
    "# max pool:\n",
    "# 8 x 8 x 64 --> 4 x 4 x 64\n",
    "model.add(MaxPooling2D(\n",
    "    pool_size=(2, 2),\n",
    "    strides=(2, 2)\n",
    "))\n",
    "\n",
    "# flatten for dense layer\n",
    "model.add(Flatten())\n",
    "\n",
    "# dense layer\n",
    "model.add(Dense(1000, activation='relu'))\n",
    "\n",
    "# softmax layer\n",
    "model.add(Dense(num_classes, activation='softmax'))\n",
    "\n",
    "# compile model\n",
    "model.compile(\n",
    "    loss=keras.losses.categorical_crossentropy,\n",
    "    optimizer=keras.optimizers.Adam(),\n",
    "    metrics=['accuracy']\n",
    ")"
   ]
  },
  {
   "cell_type": "markdown",
   "metadata": {},
   "source": [
    "## Define Training Callbacks"
   ]
  },
  {
   "cell_type": "code",
   "execution_count": 22,
   "metadata": {},
   "outputs": [],
   "source": [
    "# define callbacks\n",
    "\n",
    "# helper class for tracking accuracy\n",
    "class AccuracyHistory(keras.callbacks.Callback):\n",
    "    def on_train_begin(self, logs={}):\n",
    "        self.acc = []\n",
    "    def on_epoch_end(self, batch, logs={}):\n",
    "        self.acc.append(logs.get('acc'))\n",
    "        \n",
    "# AccuracyHistory callback stores per epoch accuracy on results.__dict__['history']\n",
    "historyCallback = AccuracyHistory()\n",
    "\n",
    "# TensorBoard callback writes computation graph and per batch loss\n",
    "tensorboardCallback = Batched_TensorBoard(log_dir=TENSORBOARD_PATH)\n",
    "\n",
    "# Model Checkpoint Callback saves model and weights after each epoch\n",
    "modelCheckpointCallback = ModelCheckpoint(filepath=MODEL_PATH)\n",
    "\n",
    "# CSV Checkpoint writes accuracy and loss to csv file after each epoch\n",
    "csvLogCallback = CSVLogger(filename=CSV_PATH)"
   ]
  },
  {
   "cell_type": "markdown",
   "metadata": {},
   "source": [
    "## Train Model"
   ]
  },
  {
   "cell_type": "code",
   "execution_count": 23,
   "metadata": {},
   "outputs": [
    {
     "name": "stdout",
     "output_type": "stream",
     "text": [
      "Train on 60000 samples, validate on 10000 samples\n",
      "Epoch 1/10\n",
      "60000/60000 [==============================] - 481s 8ms/step - loss: 0.1591 - acc: 0.9511 - val_loss: 0.0348 - val_acc: 0.9884\n",
      "Epoch 2/10\n",
      "60000/60000 [==============================] - 420s 7ms/step - loss: 0.0422 - acc: 0.9869 - val_loss: 0.0384 - val_acc: 0.9866\n",
      "Epoch 3/10\n",
      "60000/60000 [==============================] - 420s 7ms/step - loss: 0.0292 - acc: 0.9909 - val_loss: 0.0249 - val_acc: 0.9916\n",
      "Epoch 4/10\n",
      "60000/60000 [==============================] - 421s 7ms/step - loss: 0.0205 - acc: 0.9935 - val_loss: 0.0345 - val_acc: 0.9884\n",
      "Epoch 5/10\n",
      "60000/60000 [==============================] - 417s 7ms/step - loss: 0.0167 - acc: 0.9950 - val_loss: 0.0266 - val_acc: 0.9916\n",
      "Epoch 6/10\n",
      "60000/60000 [==============================] - 417s 7ms/step - loss: 0.0128 - acc: 0.9960 - val_loss: 0.0264 - val_acc: 0.9911\n",
      "Epoch 7/10\n",
      "60000/60000 [==============================] - 417s 7ms/step - loss: 0.0110 - acc: 0.9962 - val_loss: 0.0291 - val_acc: 0.9916\n",
      "Epoch 8/10\n",
      "60000/60000 [==============================] - 417s 7ms/step - loss: 0.0099 - acc: 0.9968 - val_loss: 0.0238 - val_acc: 0.9922\n",
      "Epoch 9/10\n",
      "60000/60000 [==============================] - 417s 7ms/step - loss: 0.0074 - acc: 0.9977 - val_loss: 0.0342 - val_acc: 0.9913\n",
      "Epoch 10/10\n",
      "60000/60000 [==============================] - 417s 7ms/step - loss: 0.0070 - acc: 0.9977 - val_loss: 0.0318 - val_acc: 0.9924\n"
     ]
    }
   ],
   "source": [
    "# define hyper params\n",
    "batch_size = 128\n",
    "epochs = 10\n",
    "\n",
    "validation_data = (x_test, y_test)\n",
    "\n",
    "results = model.fit(\n",
    "    x_train, y_train,\n",
    "    batch_size=batch_size,\n",
    "    epochs=epochs,\n",
    "    verbose=1,\n",
    "    validation_data=validation_data,\n",
    "    callbacks=[historyCallback, tensorboardCallback, modelCheckpointCallback, csvLogCallback]\n",
    ")"
   ]
  },
  {
   "cell_type": "markdown",
   "metadata": {},
   "source": [
    "## Load Saved Model"
   ]
  },
  {
   "cell_type": "code",
   "execution_count": 26,
   "metadata": {},
   "outputs": [
    {
     "name": "stdout",
     "output_type": "stream",
     "text": [
      "_________________________________________________________________\n",
      "Layer (type)                 Output Shape              Param #   \n",
      "=================================================================\n",
      "conv2d_1 (Conv2D)            (None, 24, 24, 32)        832       \n",
      "_________________________________________________________________\n",
      "max_pooling2d_1 (MaxPooling2 (None, 12, 12, 32)        0         \n",
      "_________________________________________________________________\n",
      "conv2d_2 (Conv2D)            (None, 8, 8, 64)          51264     \n",
      "_________________________________________________________________\n",
      "max_pooling2d_2 (MaxPooling2 (None, 4, 4, 64)          0         \n",
      "_________________________________________________________________\n",
      "flatten_1 (Flatten)          (None, 1024)              0         \n",
      "_________________________________________________________________\n",
      "dense_1 (Dense)              (None, 1000)              1025000   \n",
      "_________________________________________________________________\n",
      "dense_2 (Dense)              (None, 10)                10010     \n",
      "=================================================================\n",
      "Total params: 1,087,106\n",
      "Trainable params: 1,087,106\n",
      "Non-trainable params: 0\n",
      "_________________________________________________________________\n"
     ]
    }
   ],
   "source": [
    "new_model = load_model('./models/09-27.23:19/model.epoch.10.hdf5')\n",
    "new_model.summary()"
   ]
  },
  {
   "cell_type": "code",
   "execution_count": 28,
   "metadata": {},
   "outputs": [
    {
     "data": {
      "text/plain": [
       "{'name': 'sequential_2',\n",
       " 'trainable': True,\n",
       " '_is_compiled': True,\n",
       " '_expects_training_arg': False,\n",
       " '_initial_weights': None,\n",
       " 'supports_masking': False,\n",
       " 'optimizer': <keras.optimizers.Adam at 0xb35800240>,\n",
       " '_updates': [],\n",
       " '_losses': [],\n",
       " '_per_input_losses': {},\n",
       " '_per_input_updates': {},\n",
       " '_layers': [<keras.engine.input_layer.InputLayer at 0xb343e0550>,\n",
       "  <keras.layers.convolutional.Conv2D at 0xb343e0eb8>,\n",
       "  <keras.layers.pooling.MaxPooling2D at 0xb343e02e8>,\n",
       "  <keras.layers.convolutional.Conv2D at 0xb355a1e10>,\n",
       "  <keras.layers.pooling.MaxPooling2D at 0xb355c1860>,\n",
       "  <keras.layers.core.Flatten at 0xb355c1470>,\n",
       "  <keras.layers.core.Dense at 0xb355697b8>,\n",
       "  <keras.layers.core.Dense at 0xb355922b0>],\n",
       " '_outbound_nodes': [],\n",
       " '_inbound_nodes': [<keras.engine.base_layer.Node at 0xb343e0f28>],\n",
       " '_is_graph_network': True,\n",
       " '_uses_inputs_arg': True,\n",
       " 'outputs': [<tf.Tensor 'dense_2_1/Softmax:0' shape=(?, 10) dtype=float32>],\n",
       " 'inputs': [<tf.Tensor 'conv2d_1_input_1:0' shape=(?, 28, 28, 1) dtype=float32>],\n",
       " '_built': True,\n",
       " '_compute_previous_mask': True,\n",
       " '_input_layers': [<keras.engine.input_layer.InputLayer at 0xb343e0550>],\n",
       " '_output_layers': [<keras.layers.core.Dense at 0xb355922b0>],\n",
       " '_input_coordinates': [(<keras.engine.input_layer.InputLayer at 0xb343e0550>,\n",
       "   0,\n",
       "   0)],\n",
       " '_output_coordinates': [(<keras.layers.core.Dense at 0xb355922b0>, 0, 0)],\n",
       " '_output_mask_cache': {'48139735280_4469960568': None},\n",
       " '_output_tensor_cache': {},\n",
       " '_output_shape_cache': {},\n",
       " '_network_nodes': {'conv2d_1_ib-0',\n",
       "  'conv2d_1_input_ib-0',\n",
       "  'conv2d_2_ib-0',\n",
       "  'dense_1_ib-0',\n",
       "  'dense_2_ib-0',\n",
       "  'flatten_1_ib-0',\n",
       "  'max_pooling2d_1_ib-0',\n",
       "  'max_pooling2d_2_ib-0'},\n",
       " '_nodes_by_depth': {0: [<keras.engine.base_layer.Node at 0xb34453cf8>],\n",
       "  1: [<keras.engine.base_layer.Node at 0xb35592f28>],\n",
       "  2: [<keras.engine.base_layer.Node at 0xb35569f60>],\n",
       "  3: [<keras.engine.base_layer.Node at 0xb35569978>],\n",
       "  4: [<keras.engine.base_layer.Node at 0xb355c1630>],\n",
       "  5: [<keras.engine.base_layer.Node at 0xb355a1b38>],\n",
       "  6: [<keras.engine.base_layer.Node at 0xb355a1fd0>],\n",
       "  7: [<keras.engine.base_layer.Node at 0xb343e03c8>]},\n",
       " '_layers_by_depth': {0: [<keras.layers.core.Dense at 0xb355922b0>],\n",
       "  1: [<keras.layers.core.Dense at 0xb355697b8>],\n",
       "  2: [<keras.layers.core.Flatten at 0xb355c1470>],\n",
       "  3: [<keras.layers.pooling.MaxPooling2D at 0xb355c1860>],\n",
       "  4: [<keras.layers.convolutional.Conv2D at 0xb355a1e10>],\n",
       "  5: [<keras.layers.pooling.MaxPooling2D at 0xb343e02e8>],\n",
       "  6: [<keras.layers.convolutional.Conv2D at 0xb343e0eb8>],\n",
       "  7: [<keras.engine.input_layer.InputLayer at 0xb343e0550>]},\n",
       " 'input_names': ['conv2d_1_input'],\n",
       " 'output_names': ['dense_2'],\n",
       " '_feed_input_names': ['conv2d_1_input'],\n",
       " '_feed_inputs': [<tf.Tensor 'conv2d_1_input_1:0' shape=(?, 28, 28, 1) dtype=float32>],\n",
       " '_feed_input_shapes': [(None, 28, 28, 1)],\n",
       " 'loss': 'categorical_crossentropy',\n",
       " 'metrics': ['accuracy'],\n",
       " 'loss_weights': None,\n",
       " 'sample_weight_mode': None,\n",
       " 'weighted_metrics': None,\n",
       " 'loss_functions': [<function keras.losses.categorical_crossentropy(y_true, y_pred)>],\n",
       " '_feed_outputs': [<tf.Tensor 'dense_2_1/Softmax:0' shape=(?, 10) dtype=float32>],\n",
       " '_feed_output_names': ['dense_2'],\n",
       " '_feed_output_shapes': [(None, 10)],\n",
       " '_feed_loss_fns': [<function keras.losses.categorical_crossentropy(y_true, y_pred)>],\n",
       " 'targets': [<tf.Tensor 'dense_2_target_1:0' shape=(?, ?) dtype=float32>],\n",
       " '_feed_targets': [<tf.Tensor 'dense_2_target_1:0' shape=(?, ?) dtype=float32>],\n",
       " 'sample_weight_modes': [None],\n",
       " '_feed_sample_weight_modes': [None],\n",
       " 'metrics_names': ['loss', 'acc'],\n",
       " 'metrics_tensors': [<tf.Tensor 'metrics_1/acc/Mean:0' shape=() dtype=float32>],\n",
       " 'metrics_updates': [],\n",
       " 'stateful_metric_names': [],\n",
       " 'stateful_metric_functions': [],\n",
       " 'total_loss': <tf.Tensor 'loss_1/mul:0' shape=() dtype=float32>,\n",
       " 'sample_weights': [<tf.Tensor 'dense_2_sample_weights_1:0' shape=(?,) dtype=float32>],\n",
       " '_feed_sample_weights': [<tf.Tensor 'dense_2_sample_weights_1:0' shape=(?,) dtype=float32>],\n",
       " '_function_kwargs': {},\n",
       " 'train_function': <keras.backend.tensorflow_backend.Function at 0xb35800198>,\n",
       " 'test_function': None,\n",
       " 'predict_function': None,\n",
       " '_collected_trainable_weights': [<tf.Variable 'conv2d_1_1/kernel:0' shape=(5, 5, 1, 32) dtype=float32_ref>,\n",
       "  <tf.Variable 'conv2d_1_1/bias:0' shape=(32,) dtype=float32_ref>,\n",
       "  <tf.Variable 'conv2d_2_1/kernel:0' shape=(5, 5, 32, 64) dtype=float32_ref>,\n",
       "  <tf.Variable 'conv2d_2_1/bias:0' shape=(64,) dtype=float32_ref>,\n",
       "  <tf.Variable 'dense_1_1/kernel:0' shape=(1024, 1000) dtype=float32_ref>,\n",
       "  <tf.Variable 'dense_1_1/bias:0' shape=(1000,) dtype=float32_ref>,\n",
       "  <tf.Variable 'dense_2_1/kernel:0' shape=(1000, 10) dtype=float32_ref>,\n",
       "  <tf.Variable 'dense_2_1/bias:0' shape=(10,) dtype=float32_ref>]}"
      ]
     },
     "execution_count": 28,
     "metadata": {},
     "output_type": "execute_result"
    }
   ],
   "source": [
    "new_model.__dict__"
   ]
  },
  {
   "cell_type": "code",
   "execution_count": null,
   "metadata": {},
   "outputs": [],
   "source": []
  }
 ],
 "metadata": {
  "kernelspec": {
   "display_name": "Python 3",
   "language": "python",
   "name": "python3"
  },
  "language_info": {
   "codemirror_mode": {
    "name": "ipython",
    "version": 3
   },
   "file_extension": ".py",
   "mimetype": "text/x-python",
   "name": "python",
   "nbconvert_exporter": "python",
   "pygments_lexer": "ipython3",
   "version": "3.6.6"
  }
 },
 "nbformat": 4,
 "nbformat_minor": 2
}
